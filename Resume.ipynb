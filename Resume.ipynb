{
  "cells": [
    {
      "cell_type": "markdown",
      "metadata": {
        "id": "view-in-github",
        "colab_type": "text"
      },
      "source": [
        "<a href=\"https://colab.research.google.com/github/johir-bd/Python-Programs/blob/main/Resume.ipynb\" target=\"_parent\"><img src=\"https://colab.research.google.com/assets/colab-badge.svg\" alt=\"Open In Colab\"/></a>"
      ]
    },
    {
      "cell_type": "code",
      "source": [],
      "metadata": {
        "id": "XhrMlGc1KYat"
      },
      "execution_count": null,
      "outputs": []
    },
    {
      "cell_type": "code",
      "source": [
        "#!pip install fpdf\n",
        "from fpdf import FPDF\n",
        "\n",
        "# Create instance of FPDF class\n",
        "pdf = FPDF()\n",
        "\n",
        "# Add a page\n",
        "pdf.add_page()\n",
        "\n",
        "# Set font for the title and contact information\n",
        "pdf.set_font(\"Arial\", style='B', size=16)\n",
        "pdf.cell(200, 10, txt=\"Johirul Islam\", ln=True, align='C')\n",
        "pdf.cell(200, 10, txt=\"Machine Learning Engineer | NLP Engineer\", ln=True, align='C')\n",
        "\n",
        "# Contact Information\n",
        "pdf.set_font(\"Arial\", size=12)\n",
        "pdf.cell(200, 10, txt=\"Email: tuhinbdesh@email.com | Phone: +8801745706998\", ln=True, align='C')\n",
        "pdf.cell(200, 10, txt=\"LinkedIn: www.linkedin.com/in/johirul-islam-2667b034 | GitHub: https://github.com/johir-bd\", ln=True, align='C')\n",
        "\n",
        "# Summary Section\n",
        "pdf.ln(10)\n",
        "pdf.set_font(\"Arial\", style='B', size=14)\n",
        "pdf.cell(200, 10, txt=\"Summary\", ln=True)\n",
        "pdf.set_font(\"Arial\", size=12)\n",
        "summary = \"\"\"\n",
        "Experienced Machine Learning Engineer with 3+ years of hands-on experience in building, deploying, and optimizing machine learning models. Expertise in supervised and unsupervised learning, natural language processing (NLP), deep learning, and reinforcement learning. Skilled in Python, TensorFlow, Scikit-learn, and cloud-based deployment platforms like AWS and GCP.\n",
        "\"\"\"\n",
        "pdf.multi_cell(0, 10, summary)\n",
        "\n",
        "# Skills Section\n",
        "pdf.set_font(\"Arial\", style='B', size=14)\n",
        "pdf.cell(200, 10, txt=\"Skills\", ln=True)\n",
        "pdf.set_font(\"Arial\", size=12)\n",
        "skills = \"\"\"\n",
        "- Machine Learning: Supervised and Unsupervised Learning, Model Optimization, Feature Engineering\n",
        "- Data Preprocessing: Data Cleaning, Normalization, Feature Scaling & LLM\n",
        "- Programming Languages: Python, SQL\n",
        "- Tools & Libraries: Scikit-learn, TensorFlow, Keras, PyTorch, Pandas, NumPy, Matplotlib, Seaborn\n",
        "- Cloud & Deployment: AWS, GCP, Git\n",
        "- Data Visualization: Matplotlib, Seaborn\n",
        "\"\"\"\n",
        "pdf.multi_cell(0, 10, skills)\n",
        "\n",
        "# Professional Experience\n",
        "pdf.set_font(\"Arial\", style='B', size=14)\n",
        "pdf.cell(200, 10, txt=\"Professional Experience\", ln=True)\n",
        "pdf.set_font(\"Arial\", size=12)\n",
        "experience = \"\"\"\n",
        "Machine Learning Engineer | Mos5tel Ltd | Jan 2021 - Present\n",
        "- Developed and deployed machine learning models for predicting customer churn, leading to a 25% reduction in churn rate.\n",
        "- Built a recommendation engine using collaborative filtering, boosting customer engagement by 30%.\n",
        "- Designed and implemented scalable pipelines for model training and deployment using TensorFlow and Docker.\n",
        "- Conducted end-to-end data analysis and model development for marketing and sales forecasting projects, resulting in a 20% increase in revenue.\n",
        "- Deployed predictive models on cloud platforms (AWS, GCP) for real-time analytics and decision-making.\n",
        "- Improved model accuracy by 15% through feature selection, cross-validation, and hyperparameter tuning.\n",
        "\"\"\"\n",
        "pdf.multi_cell(0, 10, experience)\n",
        "\n",
        "# Projects Section\n",
        "pdf.set_font(\"Arial\", style='B', size=14)\n",
        "pdf.cell(200, 10, txt=\"Projects\", ln=True)\n",
        "pdf.set_font(\"Arial\", size=12)\n",
        "projects = \"\"\"\n",
        "- Customer Churn Prediction: Built and deployed a machine learning model to predict customer churn using logistic regression and random forests.\n",
        "- Recommendation System: Developed a content-based and collaborative filtering recommendation system for e-commerce platforms using matrix factorization and neural networks.\n",
        "- Time Series Forecasting: Applied ARIMA and LSTM models to forecast sales and demand trends, improving forecast accuracy by 20%.\n",
        "\"\"\"\n",
        "pdf.multi_cell(0, 10, projects)\n",
        "\n",
        "# Education Section\n",
        "pdf.set_font(\"Arial\", style='B', size=14)\n",
        "pdf.cell(200, 10, txt=\"Education\", ln=True)\n",
        "pdf.set_font(\"Arial\", size=12)\n",
        "education = \"\"\"\n",
        "MSc in Telecommunication Engineering | University Information Technology & Sciences | 2014 - 2016\n",
        "BSc in Computer Science & Engineering | Stamford University Bangladesh| 2002 - 2006\n",
        "\"\"\"\n",
        "pdf.multi_cell(0, 10, education)\n",
        "\n",
        "\n",
        "# Save the PDF\n",
        "pdf.output(\"ML_CV_Johirul_Islam.pdf\")\n"
      ],
      "metadata": {
        "id": "CgpMyAScKXjJ"
      },
      "execution_count": null,
      "outputs": []
    }
  ],
  "metadata": {
    "colab": {
      "provenance": [],
      "authorship_tag": "ABX9TyMPCbGcKFby6ElbkCRwoZtu",
      "include_colab_link": true
    },
    "kernelspec": {
      "display_name": "Python 3",
      "name": "python3"
    },
    "language_info": {
      "name": "python"
    }
  },
  "nbformat": 4,
  "nbformat_minor": 0
}