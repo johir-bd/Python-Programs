{
  "cells": [
    {
      "cell_type": "markdown",
      "metadata": {
        "id": "view-in-github",
        "colab_type": "text"
      },
      "source": [
        "<a href=\"https://colab.research.google.com/github/johir-bd/Python-Programs/blob/main/Location_Track.ipynb\" target=\"_parent\"><img src=\"https://colab.research.google.com/assets/colab-badge.svg\" alt=\"Open In Colab\"/></a>"
      ]
    },
    {
      "cell_type": "code",
      "source": [
        "import phonenumbers\n",
        "import folium\n",
        "from opencage.geocoder import OpenCageGeocode\n",
        "\n",
        "# Input phone number\n",
        "number = \"+8801952229300\"\n",
        "\n",
        "# Parse phone number and get location\n",
        "pepnumber = phonenumbers.parse(number)\n",
        "location = phonenumbers.geocoder.description_for_number(pepnumber, \"en\")\n",
        "print(\"Location:\", location)\n",
        "\n",
        "# Get carrier info (optional)\n",
        "from phonenumbers import carrier\n",
        "service_provider = phonenumbers.parse(number)\n",
        "print(\"Service provider:\", carrier.name_for_number(service_provider, \"en\"))\n",
        "\n",
        "# Geocoding (getting approximate coordinates for the region)\n",
        "key = \"a45d9f9ef7224631a2e176987\"\n",
        "geocoder = OpenCageGeocode(key)\n",
        "query = str(location)\n",
        "results = geocoder.geocode(query)\n",
        "\n",
        "if results:\n",
        "    lat = results[0]['geometry']['lat']\n",
        "    lng = results[0]['geometry']['lng']\n",
        "    print(f\"Coordinates: {lat}, {lng}\")\n",
        "\n",
        "    # Plot location on map using Folium\n",
        "    myMap = folium.Map(location=[lat, lng], zoom_start=9)\n",
        "    folium.Marker([lat, lng], popup=location).add_to(myMap)\n",
        "\n",
        "    # Save map as HTML\n",
        "    myMap.save(\"mylocation.html\")\n",
        "else:\n",
        "    print(\"Location not found.\")\n"
      ],
      "metadata": {
        "colab": {
          "base_uri": "https://localhost:8080/"
        },
        "id": "9RguiZusTtra",
        "outputId": "1cd42901-192d-4c81-c4d3-8b0b60590662"
      },
      "execution_count": 18,
      "outputs": [
        {
          "output_type": "stream",
          "name": "stdout",
          "text": [
            "Location: Bangladesh\n",
            "Service provider: Banglalink\n",
            "Coordinates: 24.4769288, 90.2934413\n"
          ]
        }
      ]
    },
    {
      "cell_type": "code",
      "source": [],
      "metadata": {
        "id": "NbDLtzxxTtnx"
      },
      "execution_count": null,
      "outputs": []
    }
  ],
  "metadata": {
    "colab": {
      "provenance": [],
      "authorship_tag": "ABX9TyOhW32TuWN4UatZnEaMywLr",
      "include_colab_link": true
    },
    "kernelspec": {
      "display_name": "Python 3",
      "name": "python3"
    },
    "language_info": {
      "name": "python"
    }
  },
  "nbformat": 4,
  "nbformat_minor": 0
}