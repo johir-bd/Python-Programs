{
  "cells": [
    {
      "cell_type": "code",
      "source": [
        "#!pip install langchain openai fastapi uvicorn nest-asyncio\n",
        "\n",
        "import nest_asyncio\n",
        "import os\n",
        "from fastapi import FastAPI, Request\n",
        "import uvicorn\n",
        "from langchain import OpenAI, LLMChain\n",
        "from langchain.prompts import PromptTemplate\n",
        "import threading\n",
        "\n",
        "# Enable nested event loops (needed in Colab)\n",
        "nest_asyncio.apply()\n",
        "\n",
        "app = FastAPI()\n",
        "\n",
        "# Initialize OpenAI LLM\n",
        "from langchain import OpenAI\n",
        "\n",
        "llm = OpenAI(api_key='sk-proj-_qfi5UU1xQGFNyNhmQfR2BQQi_xyzGEik666dkUuBkOOw3p9LqJe3SK99S-Fg78RkGSPkttT3BlbkFJ1PUbI_pF8w0-CXFmzVBlxxHnVJrvNbJVFqBEw6iLN7bX3VPM6eMhjLKqXEsAsMUwtTSjjsxRAA')\n",
        "\n",
        "# Prompts\n",
        "summary_prompt = PromptTemplate(template=\"Summarize the following text:\\n{text}\")\n",
        "keyword_prompt = PromptTemplate(template=\"Extract keywords from the following text:\\n{text}\")\n",
        "response_prompt = PromptTemplate(\n",
        "    template=\"Generate a response based on the summary '{summary}' and keywords '{keywords}':\"\n",
        ")\n",
        "\n",
        "# Chains with invoke()\n",
        "summary_chain = LLMChain(llm=llm, prompt=summary_prompt)\n",
        "keyword_chain = LLMChain(llm=llm, prompt=keyword_prompt)\n",
        "response_chain = LLMChain(llm=llm, prompt=response_prompt)\n",
        "\n",
        "def execute_workflow(input_text):\n",
        "    try:\n",
        "        print(\"Generating summary...\")\n",
        "        summary = summary_chain.invoke(text=input_text)\n",
        "        print(\"Summary:\", summary)\n",
        "        print(\"Extracting keywords...\")\n",
        "        keywords = keyword_chain.invoke(text=input_text)\n",
        "        print(\"Keywords:\", keywords)\n",
        "        print(\"Generating response...\")\n",
        "        response = response_chain.invoke(summary=summary, keywords=keywords)\n",
        "        print(\"Response:\", response)\n",
        "        return {\n",
        "            \"summary\": summary,\n",
        "            \"keywords\": keywords,\n",
        "            \"response\": response\n",
        "        }\n",
        "    except Exception as e:\n",
        "        print(\"Error during workflow:\", e)\n",
        "        return {\"error\": str(e)}\n",
        "\n",
        "@app.post(\"/process\")\n",
        "async def process(request: Request):\n",
        "    try:\n",
        "        data = await request.json()\n",
        "    except Exception as e:\n",
        "        return {\"error\": f\"Invalid JSON: {e}\"}\n",
        "    input_text = data.get(\"text\")\n",
        "    if not input_text:\n",
        "        return {\"error\": \"Missing 'text' in request body.\"}\n",
        "    result = execute_workflow(input_text)\n",
        "    return result\n",
        "\n",
        "# Run server on port 8001\n",
        "def run():\n",
        "    uvicorn.run(app, host=\"0.0.0.0\", port=8001)\n",
        "\n",
        "# Start server in background thread\n",
        "threading.Thread(target=run, daemon=True).start()"
      ],
      "metadata": {
        "id": "LtPcWeC4cys_"
      },
      "execution_count": null,
      "outputs": []
    },
    {
      "cell_type": "code",
      "source": [
        "import requests\n",
        "import time\n",
        "\n",
        "# Wait for server to start up\n",
        "time.sleep(3)\n",
        "\n",
        "payload = {\n",
        "    \"text\": \"Google Colab allows running Python code interactively in the cloud.\"\n",
        "}\n",
        "response = requests.post(\"http://127.0.0.1:8001/process\", json=payload)\n",
        "\n",
        "print(\"Status code:\", response.status_code)\n",
        "print(\"Response body:\", response.text)\n",
        "\n",
        "try:\n",
        "    print(\"JSON output:\", response.json())\n",
        "except Exception as e:\n",
        "    print(\"Error decoding JSON:\", e)"
      ],
      "metadata": {
        "id": "PB8liNje7VCl"
      },
      "execution_count": null,
      "outputs": []
    }
  ],
  "metadata": {
    "colab": {
      "provenance": []
    },
    "kernelspec": {
      "display_name": "Python 3",
      "name": "python3"
    },
    "language_info": {
      "name": "python"
    }
  },
  "nbformat": 4,
  "nbformat_minor": 0
}