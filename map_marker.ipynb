{
  "cells": [
    {
      "cell_type": "markdown",
      "metadata": {
        "id": "view-in-github",
        "colab_type": "text"
      },
      "source": [
        "<a href=\"https://colab.research.google.com/github/johir-bd/Python-Programs/blob/main/map_marker.ipynb\" target=\"_parent\"><img src=\"https://colab.research.google.com/assets/colab-badge.svg\" alt=\"Open In Colab\"/></a>"
      ]
    },
    {
      "cell_type": "code",
      "source": [
        "#!pip install folium\n",
        "import folium\n",
        "m = folium.Map(location=[23.77,90.40], zoom_start=13)\n",
        "folium.CircleMarker(location=[23.77,90.40], radius=20,popup=\"Dhaka\", color='#3186cc', fill=True, fill_color='#8d5524').add_to(m)\n",
        "m\n"
      ],
      "metadata": {
        "id": "JhPU3zEBXXg7"
      },
      "execution_count": null,
      "outputs": []
    }
  ],
  "metadata": {
    "colab": {
      "provenance": [],
      "gpuType": "T4",
      "authorship_tag": "ABX9TyM3RfGJC04CECg4CX5Cf4Ge",
      "include_colab_link": true
    },
    "kernelspec": {
      "display_name": "Python 3",
      "name": "python3"
    },
    "language_info": {
      "name": "python"
    },
    "accelerator": "GPU"
  },
  "nbformat": 4,
  "nbformat_minor": 0
}